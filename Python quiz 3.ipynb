{
 "cells": [
  {
   "cell_type": "code",
   "execution_count": 1,
   "metadata": {},
   "outputs": [
    {
     "name": "stdout",
     "output_type": "stream",
     "text": [
      "None\n"
     ]
    }
   ],
   "source": [
    "def no_return(x,y):\n",
    "    c = x + y\n",
    "\n",
    "res = no_return(4,5)\n",
    "print(res)\n"
   ]
  },
  {
   "cell_type": "code",
   "execution_count": 2,
   "metadata": {},
   "outputs": [
    {
     "name": "stdout",
     "output_type": "stream",
     "text": [
      "None\n"
     ]
    }
   ],
   "source": [
    "def no_return(x,y):\n",
    "    c = x + y\n",
    "\n",
    "res = no_return(4,5)\n",
    "print(res)\n"
   ]
  },
  {
   "cell_type": "code",
   "execution_count": 3,
   "metadata": {},
   "outputs": [
    {
     "name": "stdout",
     "output_type": "stream",
     "text": [
      "Your number: 5\n",
      "Largest Fibonacci Number smaller than x: 3\n",
      "Smallest Fibonacci Number larger than x: 5\n",
      "Your number: 8\n",
      "Largest Fibonacci Number smaller than x: 5\n",
      "Smallest Fibonacci Number larger than x: 8\n",
      "Your number: 9\n",
      "Largest Fibonacci Number smaller than x: 8\n",
      "Smallest Fibonacci Number larger than x: 13\n",
      "Your number: 10\n",
      "Largest Fibonacci Number smaller than x: 8\n",
      "Smallest Fibonacci Number larger than x: 13\n",
      "Your number: 11\n",
      "Largest Fibonacci Number smaller than x: 8\n",
      "Smallest Fibonacci Number larger than x: 13\n",
      "Your number: 12\n",
      "Largest Fibonacci Number smaller than x: 8\n",
      "Smallest Fibonacci Number larger than x: 13\n",
      "Your number: 1\n",
      "Largest Fibonacci Number smaller than x: 0\n",
      "Smallest Fibonacci Number larger than x: 1\n",
      "Your number: 2\n",
      "Largest Fibonacci Number smaller than x: 1\n",
      "Smallest Fibonacci Number larger than x: 2\n",
      "Your number: 3\n",
      "Largest Fibonacci Number smaller than x: 2\n",
      "Smallest Fibonacci Number larger than x: 3\n",
      "Your number: 4\n",
      "Largest Fibonacci Number smaller than x: 3\n",
      "Smallest Fibonacci Number larger than x: 5\n",
      "Your number: 5\n",
      "Largest Fibonacci Number smaller than x: 3\n",
      "Smallest Fibonacci Number larger than x: 5\n",
      "Your number: 6\n",
      "Largest Fibonacci Number smaller than x: 5\n",
      "Smallest Fibonacci Number larger than x: 8\n",
      "Your number: 7\n",
      "Largest Fibonacci Number smaller than x: 5\n",
      "Smallest Fibonacci Number larger than x: 8\n",
      "Your number: 8\n",
      "Largest Fibonacci Number smaller than x: 5\n",
      "Smallest Fibonacci Number larger than x: 8\n",
      "Your number: 9\n",
      "Largest Fibonacci Number smaller than x: 8\n",
      "Smallest Fibonacci Number larger than x: 13\n",
      "Your number: 10\n",
      "Largest Fibonacci Number smaller than x: 8\n",
      "Smallest Fibonacci Number larger than x: 13\n",
      "Your number: 11\n",
      "Largest Fibonacci Number smaller than x: 8\n",
      "Smallest Fibonacci Number larger than x: 13\n",
      "Your number: 12\n",
      "Largest Fibonacci Number smaller than x: 8\n",
      "Smallest Fibonacci Number larger than x: 13\n",
      "Your number: 13\n",
      "Largest Fibonacci Number smaller than x: 8\n",
      "Smallest Fibonacci Number larger than x: 13\n",
      "Your number: 14\n",
      "Largest Fibonacci Number smaller than x: 13\n",
      "Smallest Fibonacci Number larger than x: 21\n",
      "Your number: 15\n",
      "Largest Fibonacci Number smaller than x: 13\n",
      "Smallest Fibonacci Number larger than x: 21\n",
      "Your number: -1\n"
     ]
    }
   ],
   "source": [
    "def fib_intervall(x):\n",
    "    \"\"\" returns the largest fibonacci\n",
    "    number smaller than x and the lowest\n",
    "    fibonacci number higher than x\"\"\"\n",
    "    if x < 0:\n",
    "        return -1\n",
    "    (old,new, lub) = (0,1,0)\n",
    "    while True:\n",
    "        if new < x:\n",
    "            lub = new \n",
    "            (old,new) = (new,old+new)\n",
    "        else:\n",
    "            return (lub, new)\n",
    "            \n",
    "while True:\n",
    "    x = int(input(\"Your number: \"))\n",
    "    if x <= 0:\n",
    "        break\n",
    "    (lub, sup) = fib_intervall(x)\n",
    "    print(\"Largest Fibonacci Number smaller than x: \" + str(lub))\n",
    "    print(\"Smallest Fibonacci Number larger than x: \" + str(sup))"
   ]
  },
  {
   "cell_type": "code",
   "execution_count": 4,
   "metadata": {},
   "outputs": [],
   "source": [
    "my_list = [('a', 232), \n",
    "           ('b', 343), \n",
    "           ('c', 543), \n",
    "           ('d', 23)]"
   ]
  },
  {
   "cell_type": "code",
   "execution_count": 5,
   "metadata": {},
   "outputs": [
    {
     "data": {
      "text/plain": [
       "[('a', 'b', 'c', 'd'), (232, 343, 543, 23)]"
      ]
     },
     "execution_count": 5,
     "metadata": {},
     "output_type": "execute_result"
    }
   ],
   "source": [
    "list(zip(*my_list))"
   ]
  },
  {
   "cell_type": "code",
   "execution_count": 8,
   "metadata": {},
   "outputs": [
    {
     "name": "stdout",
     "output_type": "stream",
     "text": [
      "append block extract yes\n"
     ]
    }
   ],
   "source": [
    ">>> def f(a,b,x,y):\n",
    "...     print(a,b,x,y)\n",
    "\n",
    ">>> d = {'a':'append', 'b':'block','x':'extract','y':'yes'}\n",
    ">>> f(**d)\n"
   ]
  },
  {
   "cell_type": "code",
   "execution_count": 9,
   "metadata": {},
   "outputs": [],
   "source": [
    "def location(city, state):\n",
    "    print('%s is in %s' %(city, state))"
   ]
  },
  {
   "cell_type": "code",
   "execution_count": 10,
   "metadata": {},
   "outputs": [
    {
     "name": "stdout",
     "output_type": "stream",
     "text": [
      "Greenvale is in New York\n",
      "Greenvale is in New York\n",
      "New York is in Greenvale\n",
      "Greenvale is in New York\n"
     ]
    }
   ],
   "source": [
    "location('Greenvale', 'New York')\n",
    "location(city = 'Greenvale', state = 'New York')\n",
    "location('New York', 'Greenvale')\n",
    "location(state = 'New York', city = 'Greenvale')"
   ]
  },
  {
   "cell_type": "code",
   "execution_count": 11,
   "metadata": {},
   "outputs": [
    {
     "name": "stdout",
     "output_type": "stream",
     "text": [
      "3.142\n"
     ]
    }
   ],
   "source": [
    "import math\n",
    "print('{:5.3f}'.format(math.pi))"
   ]
  },
  {
   "cell_type": "code",
   "execution_count": 13,
   "metadata": {},
   "outputs": [
    {
     "ename": "ValueError",
     "evalue": "Invalid format specifier",
     "output_type": "error",
     "traceback": [
      "\u001b[0;31m---------------------------------------------------------------------------\u001b[0m",
      "\u001b[0;31mValueError\u001b[0m                                Traceback (most recent call last)",
      "\u001b[0;32m<ipython-input-13-472bb4d089f3>\u001b[0m in \u001b[0;36m<module>\u001b[0;34m\u001b[0m\n\u001b[1;32m      2\u001b[0m \u001b[0mname\u001b[0m \u001b[0;34m=\u001b[0m \u001b[0;34m[\u001b[0m\u001b[0;34m\"per\"\u001b[0m\u001b[0;34m,\u001b[0m \u001b[0;34m\"son\"\u001b[0m\u001b[0;34m,\u001b[0m \u001b[0;34m\"noun\"\u001b[0m\u001b[0;34m]\u001b[0m\u001b[0;34m\u001b[0m\u001b[0;34m\u001b[0m\u001b[0m\n\u001b[1;32m      3\u001b[0m \u001b[0;32mfor\u001b[0m \u001b[0mi\u001b[0m \u001b[0;32min\u001b[0m \u001b[0mrange\u001b[0m\u001b[0;34m(\u001b[0m\u001b[0;36m10\u001b[0m\u001b[0;34m)\u001b[0m\u001b[0;34m:\u001b[0m\u001b[0;34m\u001b[0m\u001b[0;34m\u001b[0m\u001b[0m\n\u001b[0;32m----> 4\u001b[0;31m     \u001b[0mprint\u001b[0m\u001b[0;34m(\u001b[0m\u001b[0;34m'{:%2d}, {:%8s}, {:%3d}'\u001b[0m\u001b[0;34m.\u001b[0m\u001b[0mformat\u001b[0m\u001b[0;34m(\u001b[0m\u001b[0mi\u001b[0m\u001b[0;34m,\u001b[0m \u001b[0mname\u001b[0m\u001b[0;34m[\u001b[0m\u001b[0mi\u001b[0m\u001b[0;34m]\u001b[0m\u001b[0;34m,\u001b[0m \u001b[0mscore\u001b[0m\u001b[0;34m[\u001b[0m\u001b[0mi\u001b[0m\u001b[0;34m]\u001b[0m\u001b[0;34m)\u001b[0m\u001b[0;34m)\u001b[0m\u001b[0;34m\u001b[0m\u001b[0;34m\u001b[0m\u001b[0m\n\u001b[0m",
      "\u001b[0;31mValueError\u001b[0m: Invalid format specifier"
     ]
    }
   ],
   "source": [
    "score = [1,2,3,4,5,6]\n",
    "name = [\"per\", \"son\", \"noun\"]\n",
    "for i in range(10):\n",
    "    print('{:%2d}, {:%8s}, {:%3d}'.format(i, name[i], score[i]))"
   ]
  },
  {
   "cell_type": "code",
   "execution_count": 18,
   "metadata": {},
   "outputs": [
    {
     "data": {
      "text/plain": [
       "29"
      ]
     },
     "execution_count": 18,
     "metadata": {},
     "output_type": "execute_result"
    }
   ],
   "source": [
    "def test(f, a, b):\n",
    "    return f(a, b)\n",
    " \n",
    "test(lambda x, y: x ** 2 + y, 5, 4)\n",
    "#5 squared + 4"
   ]
  },
  {
   "cell_type": "code",
   "execution_count": 20,
   "metadata": {},
   "outputs": [
    {
     "name": "stdout",
     "output_type": "stream",
     "text": [
      "50\n",
      "25\n",
      "12\n",
      "6\n",
      "3\n"
     ]
    }
   ],
   "source": [
    "k = 50\n",
    "while k > 1:\n",
    "    print(k)\n",
    "    k = k // 2"
   ]
  },
  {
   "cell_type": "code",
   "execution_count": 21,
   "metadata": {},
   "outputs": [
    {
     "name": "stdout",
     "output_type": "stream",
     "text": [
      "7\n",
      "5\n"
     ]
    }
   ],
   "source": [
    "def foo(x):\n",
    "    a = 2\n",
    "    print(a + x)\n",
    " \n",
    "a = 5\n",
    "foo(a)\n",
    "print(a)"
   ]
  },
  {
   "cell_type": "code",
   "execution_count": 38,
   "metadata": {},
   "outputs": [
    {
     "name": "stdout",
     "output_type": "stream",
     "text": [
      "This dog's name is Lucy.\n",
      "This dog's size is small.\n"
     ]
    }
   ],
   "source": [
    "class Dog(object):\n",
    "    def __init__(self, name, size):\n",
    "        self.name = name\n",
    "        self.size = size\n",
    " \n",
    "    def getInfo(self):\n",
    "        print(\"This dog's name is %s.\" % self.name)\n",
    "        print(\"This dog's size is %s.\" % self.size)\n",
    " \n",
    "dog = Dog('Lucy','small')\n",
    "dog.getInfo()"
   ]
  },
  {
   "cell_type": "code",
   "execution_count": 29,
   "metadata": {},
   "outputs": [
    {
     "data": {
      "text/plain": [
       "9"
      ]
     },
     "execution_count": 29,
     "metadata": {},
     "output_type": "execute_result"
    }
   ],
   "source": [
    "def power_opr(x, j = 3):\n",
    "   s = 1\n",
    "   while j > 0:\n",
    "       j -= 1\n",
    "       s *= x\n",
    "   return s\n",
    "  \n",
    "power_opr(-3, 2)"
   ]
  },
  {
   "cell_type": "code",
   "execution_count": 30,
   "metadata": {},
   "outputs": [
    {
     "data": {
      "text/plain": [
       "-27"
      ]
     },
     "execution_count": 30,
     "metadata": {},
     "output_type": "execute_result"
    }
   ],
   "source": [
    "def power_opr(x, j = 3):\n",
    "   s = 1\n",
    "   while j > 0:\n",
    "       j -= 1\n",
    "       s *= x\n",
    "   return s\n",
    "  \n",
    "power_opr(-3)"
   ]
  },
  {
   "cell_type": "code",
   "execution_count": null,
   "metadata": {},
   "outputs": [],
   "source": []
  }
 ],
 "metadata": {
  "kernelspec": {
   "display_name": "Python 3",
   "language": "python",
   "name": "python3"
  },
  "language_info": {
   "codemirror_mode": {
    "name": "ipython",
    "version": 3
   },
   "file_extension": ".py",
   "mimetype": "text/x-python",
   "name": "python",
   "nbconvert_exporter": "python",
   "pygments_lexer": "ipython3",
   "version": "3.7.1"
  }
 },
 "nbformat": 4,
 "nbformat_minor": 2
}
