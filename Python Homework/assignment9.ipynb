{
 "cells": [
  {
   "cell_type": "markdown",
   "metadata": {},
   "source": [
    "# This is a function to calculate the sample statistics of a list of numbers"
   ]
  },
  {
   "cell_type": "code",
   "execution_count": 9,
   "metadata": {},
   "outputs": [
    {
     "name": "stdout",
     "output_type": "stream",
     "text": [
      "Mean: -82.8375\n",
      "Variance: 508343.8375\n",
      "Standard Deviation: 712.9824\n"
     ]
    }
   ],
   "source": [
    "a=[-500.0, 999.99, 66.66, -898.0]\n",
    "\n",
    "def sampleStatistics(x):\n",
    "    import math\n",
    "    #calculate mean\n",
    "    sum = 0.0\n",
    "    for i in x:\n",
    "        sum+=i\n",
    "    mean = sum/len(x)\n",
    "    #calculate variance\n",
    "    sumOfDev = 0.0\n",
    "    for s in x:\n",
    "        sumOfDev+=(float(s)-mean)**2\n",
    "    var=sumOfDev/len(x)-1\n",
    "    STD=math.sqrt(sumOfDev/len(x)-1)  \n",
    "    return {\"Mean\":mean, \"Variance\":var, \"Standard Deviation\":STD}\n",
    "\n",
    "ss = sampleStatistics(a)\n",
    "for i in ss:\n",
    "    print(\"{}: {:.4f}\" .format(i,ss[i]))\n",
    "\n",
    "    \n"
   ]
  },
  {
   "cell_type": "markdown",
   "metadata": {},
   "source": [
    "# This is a snippet of code which allows you to input values for which you want to calculate the mean"
   ]
  },
  {
   "cell_type": "code",
   "execution_count": 8,
   "metadata": {},
   "outputs": [
    {
     "name": "stdout",
     "output_type": "stream",
     "text": [
      "Input numbers to calculate their mean. Enter numbers individually or separated by spaces to create a list. Enter 'stop' to return the list: -500 999.99 66.66 -898\n",
      "[-500.0, 999.99, 66.66, -898.0]\n",
      "\n",
      "Input numbers to calculate their mean. Enter numbers individually or separated by spaces to create a list. Enter 'stop' to return the list: stop\n",
      "\n",
      "Set of numbers: [-500.0, 999.99, 66.66, -898.0]\n",
      "Mean: -82.84\n"
     ]
    }
   ],
   "source": [
    "#define the mean function\n",
    "def calculateMean(b):\n",
    "    sum = 0.0\n",
    "    for i in b:\n",
    "        sum+=i\n",
    "    mean = sum/len(b)\n",
    "    return mean\n",
    "\n",
    "\n",
    "#ask for inputs\n",
    "#initialize loop\n",
    "inputting = True\n",
    "#define an empty list\n",
    "inputs =''\n",
    "numList =[]\n",
    "finalList=[]\n",
    "while inputting == True:\n",
    "    #define our list as i and ask for input\n",
    "    inputs = input(\"Input numbers to calculate their mean. Enter numbers individually or separated by spaces to create a list. Enter 'stop' to return the list: \")\n",
    "    #if the input is stop (case non-sensitive)\n",
    "    if inputs.lower() == 'stop':\n",
    "        #exit the loop\n",
    "        print(\"\")\n",
    "        break\n",
    "    numList=inputs.split()\n",
    "    try:\n",
    "        #append to the list a with input i and convert to float        \n",
    "        for value in numList:\n",
    "            finalList.append(float(value))\n",
    "    except:\n",
    "        #however, if you enter a character or invalid number, print warning message\n",
    "        print(\"Invalid number entered. Input was not added to the list\")\n",
    "        print(\"\")\n",
    "        #contiue with while loop\n",
    "        continue\n",
    "    #echo the list so user can see what they've input so far\n",
    "    print(finalList)\n",
    "    print(\"\")\n",
    "#outside the loop: print the list when complete\n",
    "print(\"Set of numbers: {0:}\\nMean: {1:.2f}\" .format(finalList, calculateMean(finalList)))\n"
   ]
  },
  {
   "cell_type": "code",
   "execution_count": null,
   "metadata": {},
   "outputs": [],
   "source": []
  }
 ],
 "metadata": {
  "kernelspec": {
   "display_name": "Python 3",
   "language": "python",
   "name": "python3"
  },
  "language_info": {
   "codemirror_mode": {
    "name": "ipython",
    "version": 3
   },
   "file_extension": ".py",
   "mimetype": "text/x-python",
   "name": "python",
   "nbconvert_exporter": "python",
   "pygments_lexer": "ipython3",
   "version": "3.7.1"
  }
 },
 "nbformat": 4,
 "nbformat_minor": 2
}
