{
 "cells": [
  {
   "cell_type": "markdown",
   "metadata": {},
   "source": [
    "# Python Homework\n",
    "1. Ask the user to input a numeric grade. Then output the corresponding letter grade. The grade scale is as follows: 90 - 100 A; 80 - 89 B; 70 - 79 C; 60 - 69 D; 0 - 59 F.\n",
    "1. For two given lists, construct a new list that contains the elements common to both lists.\n",
    "1. A string is parlindrome if reverse of the string is same as the string. For example, 'abba' is parlindrome, while 'abbb' is not. Write a function to check if a string is parlindrome. The string is passed as an argument to the function. The function returns True if the string is parlindrome, or False otherwise.\n",
    "1. Print the numbers between 100 and 400 (both included) where all three digits of a number are even. The numbers printed out are separated by commas. (Hint: x // 1 % 10, x // 10 % 10, and x // 100 % 10 return, respectively, the units digit, the 10s digit and the 100s digit of a number x.)\n",
    "1. Write a function to count occurrences of each distinct character in a given string. The string is passed to the function as an argument. The function returns a dictionary with each character being the key of an item, and its frequency being the value of the item."
   ]
  },
  {
   "cell_type": "code",
   "execution_count": 1,
   "metadata": {},
   "outputs": [
    {
     "name": "stdout",
     "output_type": "stream",
     "text": [
      "Type a number grade 44\n",
      "Letter Grade: F\n"
     ]
    }
   ],
   "source": [
    "#question 1: 90 to letter grade converter\n",
    "grade = int(input('Type a number grade '))\n",
    "if grade > 90:\n",
    "    print(\"Letter Grade: \" + \"A\")\n",
    "elif grade in range(80, 90):\n",
    "    print(\"Letter Grade: \" + \"B\")\n",
    "elif grade in range(70, 80):\n",
    "    print(\"Letter Grade: \" + \"C\")\n",
    "elif grade in range(60, 70):\n",
    "    print(\"Letter Grade: \" + \"D\")\n",
    "else:\n",
    "    print(\"Letter Grade: \" + \"F\")"
   ]
  },
  {
   "cell_type": "code",
   "execution_count": 2,
   "metadata": {},
   "outputs": [
    {
     "name": "stdout",
     "output_type": "stream",
     "text": [
      "[5, 6, 4]\n"
     ]
    }
   ],
   "source": [
    "#which numbers are within both lists\n",
    "a = [1, 2, 3, 5, 6, 3, 4]\n",
    "b = [4, 5, 6, 8, 9, 10, 11]\n",
    "c = []\n",
    "for i in a:\n",
    "    if i in b:\n",
    "        c.append(i)\n",
    "print(c)"
   ]
  },
  {
   "cell_type": "code",
   "execution_count": 3,
   "metadata": {},
   "outputs": [
    {
     "name": "stdout",
     "output_type": "stream",
     "text": [
      "False, is not a palindrome\n"
     ]
    }
   ],
   "source": [
    "#function to check if a string is a palindrome\n",
    "\n",
    "\n",
    "# function which return reverse of a string \n",
    "def reverse(s): \n",
    "    return s[::-1] \n",
    "\n",
    "def isPalindrome(s): \n",
    "    # Calling reverse function \n",
    "    rev = reverse(s) \n",
    "\n",
    "    # Checking if both string are equal or not \n",
    "    if (s == rev): \n",
    "        return True\n",
    "    return False\n",
    "\n",
    "# driver code \n",
    "s = \"mother\"\n",
    "ans = isPalindrome(s) \n",
    "\n",
    "if ans == 1: \n",
    "    print(\"True,\"  + \" is a palindrome\") \n",
    "else: \n",
    "    print(\"False,\" + \" is not a palindrome\") "
   ]
  },
  {
   "cell_type": "code",
   "execution_count": 4,
   "metadata": {},
   "outputs": [
    {
     "name": "stdout",
     "output_type": "stream",
     "text": [
      "200, 202, 204, 206, 208, 220, 222, 224, 226, 228, 240, 242, 244, 246, 248, 260, 262, 264, 266, 268, 280, 282, 284, 286, 288, 400, "
     ]
    }
   ],
   "source": [
    "#Print the numbers between 100 and 400 (both included) where all three digits of a number are even.\n",
    "for i in range(100, 401):\n",
    "    dig1 = i//1 % 10\n",
    "    dig10 = i//10 % 10\n",
    "    dig100 = i//100 % 10\n",
    "    if dig1%2 == 0 and dig10%2 == 0 and dig100%2 == 0:\n",
    "        print(i, end=\", \")"
   ]
  },
  {
   "cell_type": "code",
   "execution_count": 7,
   "metadata": {},
   "outputs": [
    {
     "name": "stdout",
     "output_type": "stream",
     "text": [
      "letter:  j\n",
      "count:   1\n",
      "\n",
      "letter:  e\n",
      "count:   3\n",
      "\n",
      "letter:  f\n",
      "count:   2\n",
      "\n",
      "letter:   \n",
      "count:   3\n",
      "\n",
      "letter:  i\n",
      "count:   1\n",
      "\n",
      "letter:  s\n",
      "count:   2\n",
      "\n",
      "letter:  t\n",
      "count:   2\n",
      "\n",
      "letter:  h\n",
      "count:   1\n",
      "\n",
      "letter:  c\n",
      "count:   1\n",
      "\n",
      "letter:  o\n",
      "count:   2\n",
      "\n",
      "letter:  l\n",
      "count:   1\n",
      "\n",
      "letter:  !\n",
      "count:   1\n",
      "\n"
     ]
    }
   ],
   "source": [
    "#count occurrences of each distinct character in a given string\n",
    "tstStr = \"jeff is the coolest!\"\n",
    "tstDict = {}\n",
    "\n",
    "for c in tstStr:\n",
    "    if c in tstDict:\n",
    "        tstDict[c] += 1\n",
    "    else:\n",
    "        tstDict[c] = 1\n",
    "for key, value in tstDict.items():\n",
    "    print(\"letter: \", key)\n",
    "    print(\"count:  \", value)\n",
    "    print(\"\")"
   ]
  }
 ],
 "metadata": {
  "kernelspec": {
   "display_name": "Python 3",
   "language": "python",
   "name": "python3"
  },
  "language_info": {
   "codemirror_mode": {
    "name": "ipython",
    "version": 3
   },
   "file_extension": ".py",
   "mimetype": "text/x-python",
   "name": "python",
   "nbconvert_exporter": "python",
   "pygments_lexer": "ipython3",
   "version": "3.7.1"
  }
 },
 "nbformat": 4,
 "nbformat_minor": 2
}
